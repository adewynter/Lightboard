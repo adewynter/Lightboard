{
 "cells": [
  {
   "cell_type": "code",
   "execution_count": 1,
   "metadata": {},
   "outputs": [],
   "source": [
    "import random\n",
    "import IPython\n",
    "import math\n",
    "\n",
    "import numpy as np\n",
    "\n",
    "# Our stuff\n",
    "from simulation.board import Board\n",
    "from simulation.agent import Agent\n",
    "from simulation.algorithm import coevolve\n",
    "from simulation.utils import set_seeds, generate_positions\n",
    "\n",
    "from IPython import display\n",
    "from IPython.core.interactiveshell import InteractiveShell\n",
    "InteractiveShell.ast_node_interactivity = \"all\""
   ]
  },
  {
   "cell_type": "markdown",
   "metadata": {},
   "source": [
    "### Useful functions"
   ]
  },
  {
   "cell_type": "code",
   "execution_count": 2,
   "metadata": {},
   "outputs": [],
   "source": [
    "# Needed for reproducibility.\n",
    "set_seeds()"
   ]
  },
  {
   "cell_type": "markdown",
   "metadata": {},
   "source": [
    "### Constants"
   ]
  },
  {
   "cell_type": "code",
   "execution_count": 3,
   "metadata": {},
   "outputs": [],
   "source": [
    "ENVIRONMENT_SIZE_X = 100\n",
    "ENVIRONMENT_SIZE_Y = 100\n",
    "ENVIRONMENT_RADIUS = 40\n",
    "TAIL_RADIUS = ENVIRONMENT_RADIUS/10\n",
    "RESOURCE_MAX = 255\n",
    "\n",
    "TOTAL_TIMESTEP = 3*10**2\n",
    "NUMBER_OF_AGENTS = 50\n",
    "\n",
    "AGENT_RADIUS = 1\n",
    "AGENT_INFLUENCE_RADIUS = 3\n",
    "AGENT_INFLUENCE_STRENGTH = 10\n",
    "AGENT_GRADIENT_SENSITIVITY = 0.5\n",
    "\n",
    "RELAXATION_TIME = 12;\n",
    "DELTA_TIME = 0.1\n",
    "DIFFUSIVITY = 0\n",
    "MOVIE_DELTA_TIMESTEP = 1\n",
    "\n",
    "TIME = np.arange(0,TOTAL_TIMESTEP*DELTA_TIME,DELTA_TIME)"
   ]
  },
  {
   "cell_type": "markdown",
   "metadata": {},
   "source": [
    "## Initial states:\n",
    "- Create the simple environment\n",
    "- Create the agent positions array"
   ]
  },
  {
   "cell_type": "code",
   "execution_count": 4,
   "metadata": {},
   "outputs": [],
   "source": [
    "CENTER_X = (ENVIRONMENT_SIZE_X-1)/2\n",
    "CENTER_Y = (ENVIRONMENT_SIZE_Y-1)/2\n",
    "ENVIRONMENT = np.zeros((ENVIRONMENT_SIZE_X,ENVIRONMENT_SIZE_Y))\n",
    "for dummy_X in range(0,ENVIRONMENT.shape[0]):\n",
    "    for dummy_Y in range(0,ENVIRONMENT.shape[1]):\n",
    "        dummy_R = np.sqrt((dummy_X-CENTER_X)**2+(dummy_Y-CENTER_Y)**2)\n",
    "        if dummy_R<ENVIRONMENT_RADIUS:\n",
    "            ENVIRONMENT[dummy_X,dummy_Y] = RESOURCE_MAX\n",
    "        else:\n",
    "            ENVIRONMENT[dummy_X,dummy_Y] = RESOURCE_MAX*\\\n",
    "                np.exp(-(dummy_R-ENVIRONMENT_RADIUS)**2/(2*TAIL_RADIUS**2))\n",
    "            \n",
    "POSITION_X,POSITION_Y, _pos_array_x, _pos_array_y = generate_positions(NUMBER_OF_AGENTS, ENVIRONMENT_SIZE_X,ENVIRONMENT_SIZE_Y,ENVIRONMENT,TOTAL_TIMESTEP, RESOURCE_MAX)\n",
    "\n",
    "TIMEDRAW_LIST = np.arange(0,TOTAL_TIMESTEP,MOVIE_DELTA_TIMESTEP)\n",
    "SHADOW = np.zeros((ENVIRONMENT_SIZE_X,ENVIRONMENT_SIZE_Y))\n",
    "ENVIRONMENT_INFLUENCED_HISTORY =  np.zeros((ENVIRONMENT_SIZE_X,ENVIRONMENT_SIZE_Y,TOTAL_TIMESTEP)) \n",
    "ENVIRONMENT_INFLUENCED = ENVIRONMENT\n",
    "ENVIRONMENT_INFLUENCED_HISTORY[:,:,0] = ENVIRONMENT"
   ]
  },
  {
   "cell_type": "markdown",
   "metadata": {},
   "source": [
    "### Setup variables"
   ]
  },
  {
   "cell_type": "code",
   "execution_count": 5,
   "metadata": {
    "scrolled": true
   },
   "outputs": [],
   "source": [
    "all_agents = [Agent(pos_x = x, pos_y = y) for x,y in zip(_pos_array_x, _pos_array_y)]\n",
    "\n",
    "agent_positions = [(a.position_x, a.position_y) for a in all_agents]\n",
    "\n",
    "board = Board(agent_positions,\n",
    "              POSITION_X,\n",
    "              POSITION_Y,\n",
    "              x_dim = ENVIRONMENT_SIZE_X,\n",
    "              y_dim = ENVIRONMENT_SIZE_Y,\n",
    "              I = ENVIRONMENT)"
   ]
  },
  {
   "cell_type": "markdown",
   "metadata": {},
   "source": [
    "### Run the simulation!"
   ]
  },
  {
   "cell_type": "code",
   "execution_count": 7,
   "metadata": {
    "scrolled": true
   },
   "outputs": [
    {
     "name": "stderr",
     "output_type": "stream",
     "text": [
      "Running...: 100%|████████████████████████████████████████████████████████████████████| 299/299 [01:28<00:00,  3.50it/s]\n",
      "Rendering...: 100%|██████████████████████████████████████████████████████████████████| 300/300 [00:40<00:00,  4.86it/s]\n"
     ]
    }
   ],
   "source": [
    "coevolve(board=board, all_agents=all_agents, timedraw=TIMEDRAW_LIST, resource_max=RESOURCE_MAX, total_timesteps=TOTAL_TIMESTEP, do_random_choice=True)"
   ]
  }
 ],
 "metadata": {
  "kernelspec": {
   "display_name": "Python 3",
   "language": "python",
   "name": "python3"
  },
  "language_info": {
   "codemirror_mode": {
    "name": "ipython",
    "version": 3
   },
   "file_extension": ".py",
   "mimetype": "text/x-python",
   "name": "python",
   "nbconvert_exporter": "python",
   "pygments_lexer": "ipython3",
   "version": "3.7.3"
  }
 },
 "nbformat": 4,
 "nbformat_minor": 2
}
